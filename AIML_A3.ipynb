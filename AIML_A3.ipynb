{
  "nbformat": 4,
  "nbformat_minor": 0,
  "metadata": {
    "colab": {
      "provenance": [],
      "authorship_tag": "ABX9TyP/n5LE+J+HZghddcgZ38d9",
      "include_colab_link": true
    },
    "kernelspec": {
      "name": "python3",
      "display_name": "Python 3"
    },
    "language_info": {
      "name": "python"
    }
  },
  "cells": [
    {
      "cell_type": "markdown",
      "metadata": {
        "id": "view-in-github",
        "colab_type": "text"
      },
      "source": [
        "<a href=\"https://colab.research.google.com/github/2303A51405/2303A51405-AIML/blob/main/AIML_A3.ipynb\" target=\"_parent\"><img src=\"https://colab.research.google.com/assets/colab-badge.svg\" alt=\"Open In Colab\"/></a>"
      ]
    },
    {
      "cell_type": "code",
      "execution_count": null,
      "metadata": {
        "id": "r0AoRE348AgM"
      },
      "outputs": [],
      "source": []
    },
    {
      "cell_type": "markdown",
      "source": [
        "1 Implement the AI Game Strategy\n",
        "Part 1 {(a). Install the Python Libraries required for Game Strategy. [CO2]\n",
        "1. Install the python libraries - collections, random, math, functools,\n",
        "cache = functools.lru cache(10**6)\n",
        "2. Implement a Game Class Constructor using action, is terminal, result, utility functions\n",
        "3. A game is similar to a problem, but it has a terminal test instead of a goal test, and a\n",
        "utility for each terminal state.\n",
        "4. Create a game subclass and implement actions, result, is terminal, and utility.\n",
        "5. You will also need to set the initial attribute to the initial state; this can be done in the\n",
        "constructor.\n",
        "6. Implement a Player Game using the Game Class Constructor."
      ],
      "metadata": {
        "id": "eoAz1b-w8Oip"
      }
    },
    {
      "cell_type": "code",
      "source": [
        "class Game:\n",
        "  def actions(self, state):\n",
        "    \"\"\"Return a collection of the allowable moves from this state .\"\"\"\n",
        "    raise NotImplementedError\n",
        "  def result(self, state , move):\n",
        "     \"\"\"Return the state that results from making a move from a state .\"\"\"\n",
        "     raise NotImplementedError\n",
        "  def is_terminal(self, state):\n",
        "      \"\"\"Return True i f this is a final state for the game.\"\"\"\n",
        "      return not self.actions(state)\n",
        "  def utility(self, state , player):\n",
        "      \"\"\"Return the value of this final state to player.\"\"\"\n",
        "      raise NotImplementedError"
      ],
      "metadata": {
        "id": "9CxTqHjd8XFj"
      },
      "execution_count": null,
      "outputs": []
    },
    {
      "cell_type": "code",
      "source": [
        "def playgame(game , strategies: dict , verbose=False):\n",
        "    \"\"\"Play a turn−taking game. `strategies ` is a fplayer name: functiong dict ,\n",
        "    where function(state , game) is used to get the player 's move.\"\"\"\n",
        "    state = game.initial\n",
        "    while not game.is_terminal(state):\n",
        "      player = state.to_move\n",
        "      move = strategies[player](game , state)\n",
        "      state = game.result(state , move)\n",
        "      if verbose:\n",
        "        print('Player', player , 'move:', move)\n",
        "        print(state)\n",
        "        return state"
      ],
      "metadata": {
        "id": "GQFNJtwH_PDJ"
      },
      "execution_count": null,
      "outputs": []
    },
    {
      "cell_type": "code",
      "source": [],
      "metadata": {
        "id": "eJwuNEJI_O_w"
      },
      "execution_count": null,
      "outputs": []
    },
    {
      "cell_type": "markdown",
      "source": [
        "Part 2 { Implement the Game Strategy Algorithms. [CO3]\n",
        "1. Implement the MiniMax Search Algorithm"
      ],
      "metadata": {
        "id": "-MT8xpm7ANtZ"
      }
    },
    {
      "cell_type": "code",
      "source": [
        "  def minimax_search(game , state):\n",
        "    \"\"\"Search game tree to determine best move; return (value, move) pair.\"\"\"\n",
        "    player = state.to_move\n",
        "  def max_value(state):\n",
        "    if game.is_terminal(state):\n",
        "      return game.utility(state , player), None\n",
        "    v, move = -infinity , None\n",
        "    for a in game.actions(state):\n",
        "      V2, = min_value(game.result(state , a))\n",
        "    if v2 > v:\n",
        "      v, move = v2, a\n",
        "      return v, move\n",
        "  def min_value(state):\n",
        "    if game.is_terminal(state):\n",
        "      return game.utility(state , player), None\n",
        "      v, move = +infinity , None\n",
        "    for a in game.actions(state):\n",
        "      v2, = max_value(game.result(state , a))\n",
        "    if v2 < v:\n",
        "      v, move = v2, a\n",
        "      return v, move\n",
        "    return max_value(state)\n",
        "    infinity = math.inf\n"
      ],
      "metadata": {
        "id": "NTlg_U2uAXS3"
      },
      "execution_count": null,
      "outputs": []
    },
    {
      "cell_type": "markdown",
      "source": [
        "2. Implement the Alpha-Beta Search Algorithm"
      ],
      "metadata": {
        "id": "Jl6xYB2-CNU4"
      }
    },
    {
      "cell_type": "code",
      "source": [
        "  def alphabeta_search(game , state):\n",
        "    \"\"\"Search game to determine best action; use alpha−beta pruning.\n",
        "    \"\"Search al l the way to the leaves .\"\"\"\n",
        "    player = state.to_move\n",
        "  def max_value(state , alpha , beta):\n",
        "    if game.is_terminal(state):\n",
        "      return game.utility(state , player), None\n",
        "    v, move = -infinity , None\n",
        "    for a in game.actions(state):\n",
        "      v2, _ = min_value(game.result(state , a), alpha , beta)\n",
        "    if v2 > v:\n",
        "     v, move = v2, a\n",
        "     alpha = max(alpha , v)\n",
        "    if v >= beta:\n",
        "     return v, move\n",
        "     return v, move\n",
        "  def min_value(state , alpha , beta):\n",
        "    if game.is_terminal(state):\n",
        "     return game.utility(state , player), None\n",
        "    v, move = +infinity , None\n",
        "    for a in game.actions(state):\n",
        "       v2, _ = max_value(game.result(state , a), alpha , beta)\n",
        "    if v2 < v:\n",
        "      v, move = v2, a\n",
        "      beta = min(beta , v)\n",
        "    if v <= alpha:\n",
        "      return v, move\n",
        "      return v, move\n",
        "    return max_value(state , _infinity , +infinity)"
      ],
      "metadata": {
        "id": "baaus-bJCPtG"
      },
      "execution_count": null,
      "outputs": []
    },
    {
      "cell_type": "markdown",
      "source": [
        "Part 3 { Implement the Game Strategy using TicTocToe. [CO4]\n",
        "1. Implement TicToCToe game using init , actions, result, is terminal, utility,\n",
        "display constructors"
      ],
      "metadata": {
        "id": "S-tQGwdeEjQE"
      }
    },
    {
      "cell_type": "code",
      "source": [
        "  def random_player(game , state): return random.choice(list(game.actions(state)))\n",
        "  def player(search_algorithm):\n",
        "    \"\"\"A game player who uses the specified search algorithm\"\"\"\n",
        "    return lambda game , state: search_algorithm(game , state)[1]"
      ],
      "metadata": {
        "id": "pjfZbSyTFAM0"
      },
      "execution_count": null,
      "outputs": []
    },
    {
      "cell_type": "markdown",
      "source": [
        "Part 4 – Evaluate the AI Game Strategy using TicTocToe. [CO4]\n",
        "1. Implement Game Strategy using play game(TicTacToe(), dict(X=random player,\n",
        "O=player(alphabeta search)), verbose=True).utility\n",
        "2. Implement Game strategy using play game(TicTacToe(), dict(X=player(alphabeta search),\n",
        "O=player(minimax search)), verbose=True).utility\n"
      ],
      "metadata": {
        "id": "FpecexiXM-wB"
      }
    },
    {
      "cell_type": "markdown",
      "source": [
        "v_game(TicTacToe"
      ],
      "metadata": {
        "id": "vdXxJZKUNUm5"
      }
    }
  ]
}